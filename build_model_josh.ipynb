{
  "nbformat": 4,
  "nbformat_minor": 0,
  "metadata": {
    "colab": {
      "name": "build_model.ipynb",
      "provenance": [],
      "collapsed_sections": []
    },
    "kernelspec": {
      "name": "python3",
      "display_name": "Python 3"
    },
    "accelerator": "GPU"
  },
  "cells": [
    {
      "cell_type": "code",
      "metadata": {
        "id": "51hePvJMzNS8",
        "colab_type": "code",
        "colab": {}
      },
      "source": [
        "import numpy as np\n",
        "\n",
        "#This is just the board.py code\n",
        "\n",
        "class TicTacToe(object):\n",
        "\n",
        "    def __init__(self):\n",
        "        self.setup_board = np.zeros((3, 3), dtype='str')\n",
        "        self.setup_board[self.setup_board == ''] = ' '\n",
        "        self.current_board = self.setup_board\n",
        "        self.player = 0\n",
        "        self.player_map = {0: 'X', 1: 'O'}\n",
        "\n",
        "    def print_board(self):\n",
        "        for line in self.current_board:\n",
        "            print(line)\n",
        "\n",
        "    def flatten_board(self):\n",
        "        flattened = [0] * 9\n",
        "        j = 0\n",
        "        for line in self.current_board:\n",
        "            for i in line:\n",
        "                if i == ' ':\n",
        "                    flattened[j] = 0\n",
        "                elif i == 'X':\n",
        "                    flattened[j] = 1\n",
        "                elif i == 'O':\n",
        "                    flattened[j] = 2\n",
        "                j += 1\n",
        "        return flattened\n",
        "      \n",
        "    def move(self, row, column):\n",
        "        if self.current_board[row, column] != ' ':\n",
        "            raise Exception('Invalid placement')\n",
        "        self.current_board[row, column] = self.player_map[self.player]\n",
        "\n",
        "    def possible_actions(self):\n",
        "        n_rows, n_cols = self.current_board.shape\n",
        "        actions = []\n",
        "        for row in range(n_rows):\n",
        "            for col in range(n_cols):\n",
        "                if self.current_board[row, col] == ' ':\n",
        "                    actions.append((row, col))\n",
        "        return actions\n",
        "\n",
        "    def check_winner(self):\n",
        "        \"\"\"Checks if the game is over and return a possible winner.\n",
        "        There are 3 possible scenarios\n",
        "            a) The game is over and we have a winner.\n",
        "            b) The game is over but it is a draw.\n",
        "            c) The game is not over.\n",
        "        Args:\n",
        "            Takes a TicTacToe board\n",
        "        Returns:\n",
        "            A bool representing the game over state.\n",
        "            An integer action value. (win: 1, loss: -1, draw: 0)\n",
        "        \"\"\"\n",
        "        n_rows, n_cols = self.current_board.shape\n",
        "\n",
        "        player_a = self.player\n",
        "        player_b = (self.player + 1) % 2\n",
        "\n",
        "        # Check for horizontal marks\n",
        "        for x in range(n_rows):\n",
        "            player_a_count = 0\n",
        "            player_b_count = 0\n",
        "            for y in range(n_cols):\n",
        "                if self.current_board[x][y] == self.player_map[player_a]:\n",
        "                    player_a_count += 1\n",
        "                elif self.current_board[x][y] == self.player_map[player_b]:\n",
        "                    player_b_count += 1\n",
        "            if player_a_count == n_cols:\n",
        "                return True, 1\n",
        "            elif player_b_count == n_cols:\n",
        "                return True, -1\n",
        "\n",
        "        # Check for vertical marks\n",
        "        for x in range(n_rows):\n",
        "            player_a_count = 0\n",
        "            player_b_count = 0\n",
        "            for y in range(n_cols):\n",
        "                if self.current_board[y][x] == self.player_map[player_a]:\n",
        "                    player_a_count += 1\n",
        "                elif self.current_board[y][x] == self.player_map[player_b]:\n",
        "                    player_b_count += 1\n",
        "            if player_a_count == n_rows:\n",
        "                return True, 1\n",
        "            elif player_b_count == n_rows:\n",
        "                return True, -1\n",
        "\n",
        "        # Check for major diagonal marks\n",
        "        player_a_count = 0\n",
        "        player_b_count = 0\n",
        "        for x in range(n_rows):\n",
        "            if self.current_board[x][x] == self.player_map[player_a]:\n",
        "                player_a_count += 1\n",
        "            elif self.current_board[x][x] == self.player_map[player_b]:\n",
        "                player_b_count += 1\n",
        "\n",
        "        if player_a_count == n_rows:\n",
        "            return True, 1\n",
        "        elif player_b_count == n_rows:\n",
        "            return True, -1\n",
        "\n",
        "        # Check for minor diagonal marks\n",
        "        player_a_count = 0\n",
        "        player_b_count = 0\n",
        "        for y in range(n_rows - 1, -1, -1):\n",
        "            x = 2 - y\n",
        "            if self.current_board[x][y] == self.player_map[player_a]:\n",
        "                player_a_count += 1\n",
        "            elif self.current_board[x][y] == self.player_map[player_b]:\n",
        "                player_b_count += 1\n",
        "\n",
        "        if player_a_count == n_rows:\n",
        "            return True, 1\n",
        "        elif player_b_count == n_rows:\n",
        "            return True, -1\n",
        "\n",
        "        # There are still moves left so the game is not over\n",
        "        actions = self.possible_actions()\n",
        "        if actions:\n",
        "            return False, 0\n",
        "\n",
        "        # If there are no moves left the game is over without a winner\n",
        "        return True, 0\n",
        "\n",
        "    def next_player(self):\n",
        "        self.player = (self.player + 1) % 2\n",
        "\n",
        "    def debug_board(self, positions):\n",
        "        self.current_board = self.setup_board\n",
        "        for key, value in positions.items():\n",
        "            for row, col in value:\n",
        "                self.current_board[row, col] = key"
      ],
      "execution_count": 0,
      "outputs": []
    },
    {
      "cell_type": "code",
      "metadata": {
        "id": "iBle30przO9u",
        "colab_type": "code",
        "colab": {}
      },
      "source": [
        "#this is the play.py code\n",
        "\n",
        "import numpy as np\n",
        "from copy import deepcopy\n",
        "import random\n",
        "\n",
        "\n",
        "def best_move(board, model, player, rnd=0, flatten=True):\n",
        "    scores = []\n",
        "    moves = board.possible_actions()\n",
        "\n",
        "    # Make predictions for each possible move\n",
        "    for i in range(len(moves)):\n",
        "        future = deepcopy(board)\n",
        "        future.move(*moves[i])\n",
        "\n",
        "        if flatten:\n",
        "          current_board = np.array(future.flatten_board())\n",
        "          current_board = current_board.reshape((-1,9))\n",
        "        else:\n",
        "          current_board = future.current_board\n",
        "          # print(current_board)\n",
        "          n_rows, n_cols = current_board.shape\n",
        "          for i in range(n_rows):\n",
        "            for j in range(n_cols):\n",
        "              if current_board[i][j] == ' ':\n",
        "                current_board[i][j] = 0\n",
        "              elif current_board[i][j] == 'X':\n",
        "                current_board[i][j] = 1\n",
        "              elif current_board[i][j] == 'O':\n",
        "                current_board[i][j] = 2\n",
        "          current_board = current_board.reshape((-1, 3, 3, 1))\n",
        "\n",
        "        prediction = model.predict(current_board)[0]\n",
        "        if player == 0:\n",
        "            win_prediction = prediction[1]\n",
        "            loss_prediction = prediction[2]\n",
        "        else:\n",
        "            win_prediction = prediction[2]\n",
        "            loss_prediction = prediction[1]\n",
        "        draw_prediction = prediction[0]\n",
        "\n",
        "        if win_prediction - loss_prediction > 0:\n",
        "            scores.append(win_prediction - loss_prediction)\n",
        "        else:\n",
        "            scores.append(draw_prediction - loss_prediction)\n",
        "\n",
        "    # Choose the best move with a random factor\n",
        "    best_moves = np.flip(np.argsort(scores))\n",
        "    for i in range(len(best_moves)):\n",
        "        if random.random() * rnd < 0.5:\n",
        "            return moves[best_moves[i]]\n",
        "\n",
        "    # Choose a move completely at random\n",
        "    return moves[random.randint(0, len(moves) - 1)]\n",
        "\n",
        "\n",
        "def play_game(p1=None, p2=None, rnd=0, flatten=[True, True]):\n",
        "    game_data = dict(moves=list(), board_history=list(), winner=None)\n",
        "    board = TicTacToe()\n",
        "    play = True\n",
        "    actions = board.possible_actions()\n",
        "    while play and actions:\n",
        "        actions = board.possible_actions()\n",
        "        m = len(actions)\n",
        "        if board.player == 0 and p1 is not None:\n",
        "            move_ind = best_move(board, p1, board.player, rnd, flatten=flatten[0])\n",
        "            board.move(*move_ind)\n",
        "        elif board.player == 1 and p2 is not None:\n",
        "            move_ind = best_move(board, p2, board.player, rnd, flatten=flatten[1])\n",
        "            board.move(*move_ind)\n",
        "        else:\n",
        "            pick = np.random.randint(0, m)\n",
        "            move_ind = actions[pick]\n",
        "            board.move(*move_ind)\n",
        "        a_winner, reward = board.check_winner()\n",
        "        if a_winner and reward != 0:\n",
        "            play = False\n",
        "            game_data['winner'] = board.player\n",
        "        elif a_winner and reward == 0:\n",
        "            play = False\n",
        "            game_data['winner'] = 0.5\n",
        "        game_data['moves'].append((board.player, move_ind))\n",
        "        game_data['board_history'].append(deepcopy(board.current_board))\n",
        "        board.next_player()\n",
        "    return game_data\n",
        "\n",
        "\n",
        "def gather_game_results(n_games, p1=None, p2=None, rnd=0, flatten=[True, True]):\n",
        "    results = dict(x_wins=0, o_wins=0, draws=0)\n",
        "    for i in range(n_games):\n",
        "        sim_game = play_game(p1=p1, p2=p2, rnd=rnd, flatten=flatten)\n",
        "        if sim_game['winner'] == 0:\n",
        "            results['x_wins'] += 1\n",
        "        elif sim_game['winner'] == 1:\n",
        "            results['o_wins'] += 1\n",
        "        else:\n",
        "            results['draws'] += 1\n",
        "    x_win_pct = results['x_wins'] / n_games\n",
        "    o_win_pct = results['o_wins'] / n_games\n",
        "    draw_pct = results['draws'] / n_games\n",
        "\n",
        "    print(f'The winning percentage for X was {x_win_pct*100:.2f}% in {n_games} random simulations')\n",
        "    print(f'The winning percentage for O was {o_win_pct*100:.2f}% in {n_games} random simulations')\n",
        "    print(f'The percentage of draws was {draw_pct*100:.2f}% in {n_games} random simulations')"
      ],
      "execution_count": 0,
      "outputs": []
    },
    {
      "cell_type": "code",
      "metadata": {
        "id": "b6TfT1-iChxC",
        "colab_type": "code",
        "colab": {}
      },
      "source": [
        "#flattens data and gets it in a format that our model can read\n",
        "\n",
        "def get_training_data(games):\n",
        "  X = []\n",
        "  y = []\n",
        "  for game in games:\n",
        "    move_set = np.zeros((3, 3))\n",
        "    winner_array = np.zeros(3)\n",
        "    for i in range(len(game['moves'])):\n",
        "      player = game['moves'][i][0]\n",
        "      row = game['moves'][i][1][0]\n",
        "      column = game['moves'][i][1][1]\n",
        "\n",
        "      move_set[row, column] = player + 1\n",
        "      X.append(deepcopy(move_set))\n",
        "\n",
        "      winner_array[int(game['winner'])+1] = 1\n",
        "\n",
        "      y.append(deepcopy(winner_array))\n",
        "\n",
        "  X = np.array(X).reshape((-1, 3, 3, 1))\n",
        "  y = np.array(y)\n",
        "  trainNum = int(len(X) * 0.8)\n",
        "  return (X[:trainNum], X[trainNum:], y[:trainNum], y[trainNum:])"
      ],
      "execution_count": 0,
      "outputs": []
    },
    {
      "cell_type": "code",
      "metadata": {
        "id": "hGguyO9z-FJx",
        "colab_type": "code",
        "outputId": "5d84740c-cc4d-48ef-ce22-0823f2ddc06e",
        "colab": {
          "base_uri": "https://localhost:8080/",
          "height": 68
        }
      },
      "source": [
        "gather_game_results(1000)"
      ],
      "execution_count": 5,
      "outputs": [
        {
          "output_type": "stream",
          "text": [
            "The winning percentage for X was 60.00% in 1000 random simulations\n",
            "The winning percentage for O was 26.70% in 1000 random simulations\n",
            "The percentage of draws was 13.30% in 1000 random simulations\n"
          ],
          "name": "stdout"
        }
      ]
    },
    {
      "cell_type": "code",
      "metadata": {
        "id": "-yy_sn5munBz",
        "colab_type": "code",
        "colab": {}
      },
      "source": [
        "#flattens data and gets it in a format that our model can read\n",
        "\n",
        "def get_training_data_flat(games):\n",
        "  X = []\n",
        "  y = []\n",
        "  for game in games:\n",
        "    move_set = [0] * 9\n",
        "    winner_array = [0] * 3\n",
        "    for i in range(len(game['moves'])):\n",
        "      player = game['moves'][i][0]\n",
        "      row = game['moves'][i][1][0]\n",
        "      column = game['moves'][i][1][1]\n",
        "\n",
        "      index = 3*row + column\n",
        "      move_set[index] = player+1\n",
        "      X.append(deepcopy(move_set))\n",
        "\n",
        "      winner_array[int(game['winner'])+1] = 1\n",
        "\n",
        "      y.append(deepcopy(winner_array))\n",
        "\n",
        "  X = np.array(X)\n",
        "  y = np.array(y)\n",
        "  trainNum = int(len(X) * 0.8)\n",
        "  return (X[:trainNum], X[trainNum:], y[:trainNum], y[trainNum:])"
      ],
      "execution_count": 0,
      "outputs": []
    },
    {
      "cell_type": "code",
      "metadata": {
        "id": "hhbJHQ8qhuqa",
        "colab_type": "code",
        "colab": {}
      },
      "source": [
        "# Run 100,000 random games and store it in game array\n",
        "\n",
        "games = []\n",
        "for _ in range(100_000):\n",
        "  games.append(play_game())\n",
        "\n",
        "X_train, X_test, y_train, y_test = get_training_data(games)\n",
        "X_flat_train, X_flat_test, y_flat_train, y_flat_test = get_training_data_flat(games)"
      ],
      "execution_count": 0,
      "outputs": []
    },
    {
      "cell_type": "code",
      "metadata": {
        "id": "FNZZncictHOZ",
        "colab_type": "code",
        "colab": {
          "base_uri": "https://localhost:8080/",
          "height": 80
        },
        "outputId": "4e4f348f-f3e5-4198-f8d6-c0e55bbd4100"
      },
      "source": [
        "#build net\n",
        "\n",
        "import keras\n",
        "from keras.models import Sequential\n",
        "from keras.layers import *\n",
        "from keras.backend import reshape\n",
        "from keras import optimizers\n",
        "from keras.utils.np_utils import to_categorical\n",
        "\n",
        "def dense_model(learning_rate=1e-4, decay=1e-6):\n",
        "    numCells = 9\n",
        "    outcomes = 3\n",
        "    model = Sequential()\n",
        "    model.add(Dense(400, activation='relu', input_shape=(9, )))\n",
        "    model.add(Dropout(0.2))\n",
        "    model.add(Dense(300, activation='relu'))\n",
        "    model.add(Dense(200, activation='relu'))\n",
        "    model.add(Dense(125, activation='relu'))\n",
        "    model.add(Dense(75, activation='relu'))\n",
        "    model.add(Dropout(0.1))\n",
        "    model.add(Dense(25, activation='relu'))\n",
        "    model.add(Dense(outcomes, activation='softmax'))\n",
        "    opt = keras.optimizers.RMSprop(lr=learning_rate, decay=decay)\n",
        "    model.compile(loss='categorical_crossentropy',\n",
        "                  optimizer=opt,\n",
        "                  metrics=['acc'])\n",
        "    return model\n",
        "\n",
        "def conv_model():\n",
        "    outcomes = 3\n",
        "    model = Sequential()\n",
        "    model.add(Conv2D(32, (2, 2), padding='same', input_shape=(3, 3, 1)))\n",
        "    model.add(BatchNormalization())\n",
        "    model.add(Activation('relu'))\n",
        "    model.add(Conv2D(64, (2, 2), padding='same'))\n",
        "    model.add(BatchNormalization())\n",
        "    model.add(Activation('relu'))\n",
        "    model.add(Conv2D(32, (2, 2), padding='same'))\n",
        "    model.add(Activation('relu'))\n",
        "    model.add(Flatten())\n",
        "    model.add(Dense(512, activation='relu'))\n",
        "    model.add(Dense(128, activation='relu'))\n",
        "    model.add(Dense(outcomes, activation='softmax'))\n",
        "    optim = optimizers.Adam(lr=1e-3, beta_1=0.9, beta_2=0.999, amsgrad=False)\n",
        "    model.compile(loss='categorical_crossentropy',\n",
        "                  optimizer=optim,\n",
        "                  metrics=['acc'])\n",
        "    return model"
      ],
      "execution_count": 8,
      "outputs": [
        {
          "output_type": "stream",
          "text": [
            "Using TensorFlow backend.\n"
          ],
          "name": "stderr"
        },
        {
          "output_type": "display_data",
          "data": {
            "text/html": [
              "<p style=\"color: red;\">\n",
              "The default version of TensorFlow in Colab will soon switch to TensorFlow 2.x.<br>\n",
              "We recommend you <a href=\"https://www.tensorflow.org/guide/migrate\" target=\"_blank\">upgrade</a> now \n",
              "or ensure your notebook will continue to use TensorFlow 1.x via the <code>%tensorflow_version 1.x</code> magic:\n",
              "<a href=\"https://colab.research.google.com/notebooks/tensorflow_version.ipynb\" target=\"_blank\">more info</a>.</p>\n"
            ],
            "text/plain": [
              "<IPython.core.display.HTML object>"
            ]
          },
          "metadata": {
            "tags": []
          }
        }
      ]
    },
    {
      "cell_type": "code",
      "metadata": {
        "id": "XtyYGA8dfB9f",
        "colab_type": "code",
        "colab": {
          "base_uri": "https://localhost:8080/",
          "height": 955
        },
        "outputId": "17b0ac43-d059-4acb-acdf-bf14d93b74f2"
      },
      "source": [
        "conv_model = conv_model()\n",
        "conv_history = conv_model.fit(X_train, y_train, validation_data=(X_test, y_test),\n",
        "                              epochs=10, batch_size=500)"
      ],
      "execution_count": 9,
      "outputs": [
        {
          "output_type": "stream",
          "text": [
            "WARNING:tensorflow:From /usr/local/lib/python3.6/dist-packages/keras/backend/tensorflow_backend.py:66: The name tf.get_default_graph is deprecated. Please use tf.compat.v1.get_default_graph instead.\n",
            "\n",
            "WARNING:tensorflow:From /usr/local/lib/python3.6/dist-packages/keras/backend/tensorflow_backend.py:541: The name tf.placeholder is deprecated. Please use tf.compat.v1.placeholder instead.\n",
            "\n",
            "WARNING:tensorflow:From /usr/local/lib/python3.6/dist-packages/keras/backend/tensorflow_backend.py:4432: The name tf.random_uniform is deprecated. Please use tf.random.uniform instead.\n",
            "\n",
            "WARNING:tensorflow:From /usr/local/lib/python3.6/dist-packages/keras/backend/tensorflow_backend.py:190: The name tf.get_default_session is deprecated. Please use tf.compat.v1.get_default_session instead.\n",
            "\n",
            "WARNING:tensorflow:From /usr/local/lib/python3.6/dist-packages/keras/backend/tensorflow_backend.py:197: The name tf.ConfigProto is deprecated. Please use tf.compat.v1.ConfigProto instead.\n",
            "\n",
            "WARNING:tensorflow:From /usr/local/lib/python3.6/dist-packages/keras/backend/tensorflow_backend.py:203: The name tf.Session is deprecated. Please use tf.compat.v1.Session instead.\n",
            "\n",
            "WARNING:tensorflow:From /usr/local/lib/python3.6/dist-packages/keras/backend/tensorflow_backend.py:207: The name tf.global_variables is deprecated. Please use tf.compat.v1.global_variables instead.\n",
            "\n",
            "WARNING:tensorflow:From /usr/local/lib/python3.6/dist-packages/keras/backend/tensorflow_backend.py:216: The name tf.is_variable_initialized is deprecated. Please use tf.compat.v1.is_variable_initialized instead.\n",
            "\n",
            "WARNING:tensorflow:From /usr/local/lib/python3.6/dist-packages/keras/backend/tensorflow_backend.py:223: The name tf.variables_initializer is deprecated. Please use tf.compat.v1.variables_initializer instead.\n",
            "\n",
            "WARNING:tensorflow:From /usr/local/lib/python3.6/dist-packages/keras/backend/tensorflow_backend.py:2041: The name tf.nn.fused_batch_norm is deprecated. Please use tf.compat.v1.nn.fused_batch_norm instead.\n",
            "\n",
            "WARNING:tensorflow:From /usr/local/lib/python3.6/dist-packages/keras/backend/tensorflow_backend.py:148: The name tf.placeholder_with_default is deprecated. Please use tf.compat.v1.placeholder_with_default instead.\n",
            "\n",
            "WARNING:tensorflow:From /usr/local/lib/python3.6/dist-packages/keras/optimizers.py:793: The name tf.train.Optimizer is deprecated. Please use tf.compat.v1.train.Optimizer instead.\n",
            "\n",
            "WARNING:tensorflow:From /usr/local/lib/python3.6/dist-packages/keras/backend/tensorflow_backend.py:3576: The name tf.log is deprecated. Please use tf.math.log instead.\n",
            "\n",
            "WARNING:tensorflow:From /usr/local/lib/python3.6/dist-packages/tensorflow_core/python/ops/math_grad.py:1424: where (from tensorflow.python.ops.array_ops) is deprecated and will be removed in a future version.\n",
            "Instructions for updating:\n",
            "Use tf.where in 2.0, which has the same broadcast rule as np.where\n",
            "WARNING:tensorflow:From /usr/local/lib/python3.6/dist-packages/keras/backend/tensorflow_backend.py:1033: The name tf.assign_add is deprecated. Please use tf.compat.v1.assign_add instead.\n",
            "\n",
            "WARNING:tensorflow:From /usr/local/lib/python3.6/dist-packages/keras/backend/tensorflow_backend.py:1020: The name tf.assign is deprecated. Please use tf.compat.v1.assign instead.\n",
            "\n",
            "Train on 610565 samples, validate on 152642 samples\n",
            "Epoch 1/10\n",
            "610565/610565 [==============================] - 19s 32us/step - loss: 0.4733 - acc: 0.7665 - val_loss: 0.4400 - val_acc: 0.7807\n",
            "Epoch 2/10\n",
            "610565/610565 [==============================] - 16s 26us/step - loss: 0.4360 - acc: 0.7788 - val_loss: 0.4321 - val_acc: 0.7807\n",
            "Epoch 3/10\n",
            "610565/610565 [==============================] - 16s 26us/step - loss: 0.4318 - acc: 0.7799 - val_loss: 0.4301 - val_acc: 0.7809\n",
            "Epoch 4/10\n",
            "610565/610565 [==============================] - 16s 26us/step - loss: 0.4306 - acc: 0.7803 - val_loss: 0.4281 - val_acc: 0.7817\n",
            "Epoch 5/10\n",
            "610565/610565 [==============================] - 16s 26us/step - loss: 0.4298 - acc: 0.7806 - val_loss: 0.4275 - val_acc: 0.7818\n",
            "Epoch 6/10\n",
            "610565/610565 [==============================] - 16s 26us/step - loss: 0.4290 - acc: 0.7807 - val_loss: 0.4291 - val_acc: 0.7809\n",
            "Epoch 7/10\n",
            "610565/610565 [==============================] - 16s 27us/step - loss: 0.4287 - acc: 0.7812 - val_loss: 0.4270 - val_acc: 0.7816\n",
            "Epoch 8/10\n",
            "610565/610565 [==============================] - 16s 26us/step - loss: 0.4283 - acc: 0.7813 - val_loss: 0.4276 - val_acc: 0.7817\n",
            "Epoch 9/10\n",
            "610565/610565 [==============================] - 16s 26us/step - loss: 0.4282 - acc: 0.7814 - val_loss: 0.4273 - val_acc: 0.7816\n",
            "Epoch 10/10\n",
            "610565/610565 [==============================] - 16s 26us/step - loss: 0.4277 - acc: 0.7815 - val_loss: 0.4267 - val_acc: 0.7820\n"
          ],
          "name": "stdout"
        }
      ]
    },
    {
      "cell_type": "code",
      "metadata": {
        "id": "5eTB7EVgpEZ2",
        "colab_type": "code",
        "outputId": "bcc56d93-c9e2-46b1-b2fe-ab53c178e663",
        "colab": {
          "base_uri": "https://localhost:8080/",
          "height": 445
        }
      },
      "source": [
        "#train model. This cell will take some time to run, depending on how many games in training, size of model, # of epochs, etc.\n",
        "\n",
        "dense_model = dense_model()\n",
        "dense_history = dense_model.fit(X_flat_train, y_flat_train, validation_data=(X_flat_test, y_flat_test),\n",
        "                                epochs=10, batch_size=500)"
      ],
      "execution_count": 11,
      "outputs": [
        {
          "output_type": "stream",
          "text": [
            "WARNING:tensorflow:From /usr/local/lib/python3.6/dist-packages/keras/backend/tensorflow_backend.py:3733: calling dropout (from tensorflow.python.ops.nn_ops) with keep_prob is deprecated and will be removed in a future version.\n",
            "Instructions for updating:\n",
            "Please use `rate` instead of `keep_prob`. Rate should be set to `rate = 1 - keep_prob`.\n",
            "Train on 610565 samples, validate on 152642 samples\n",
            "Epoch 1/10\n",
            "610565/610565 [==============================] - 11s 18us/step - loss: 0.5880 - acc: 0.7184 - val_loss: 0.5588 - val_acc: 0.7273\n",
            "Epoch 2/10\n",
            "610565/610565 [==============================] - 10s 17us/step - loss: 0.5500 - acc: 0.7276 - val_loss: 0.5286 - val_acc: 0.7383\n",
            "Epoch 3/10\n",
            "610565/610565 [==============================] - 10s 17us/step - loss: 0.5321 - acc: 0.7369 - val_loss: 0.5131 - val_acc: 0.7493\n",
            "Epoch 4/10\n",
            "610565/610565 [==============================] - 10s 17us/step - loss: 0.5164 - acc: 0.7460 - val_loss: 0.5297 - val_acc: 0.7332\n",
            "Epoch 5/10\n",
            "610565/610565 [==============================] - 10s 17us/step - loss: 0.5028 - acc: 0.7535 - val_loss: 0.4849 - val_acc: 0.7636\n",
            "Epoch 6/10\n",
            "610565/610565 [==============================] - 10s 17us/step - loss: 0.4921 - acc: 0.7593 - val_loss: 0.4729 - val_acc: 0.7698\n",
            "Epoch 7/10\n",
            "610565/610565 [==============================] - 10s 17us/step - loss: 0.4830 - acc: 0.7641 - val_loss: 0.4675 - val_acc: 0.7724\n",
            "Epoch 8/10\n",
            "610565/610565 [==============================] - 10s 17us/step - loss: 0.4746 - acc: 0.7679 - val_loss: 0.4591 - val_acc: 0.7739\n",
            "Epoch 9/10\n",
            "610565/610565 [==============================] - 10s 17us/step - loss: 0.4676 - acc: 0.7706 - val_loss: 0.4523 - val_acc: 0.7775\n",
            "Epoch 10/10\n",
            "610565/610565 [==============================] - 10s 17us/step - loss: 0.4625 - acc: 0.7722 - val_loss: 0.4557 - val_acc: 0.7753\n"
          ],
          "name": "stdout"
        }
      ]
    },
    {
      "cell_type": "code",
      "metadata": {
        "id": "myEoqCVqyKBL",
        "colab_type": "code",
        "colab": {
          "base_uri": "https://localhost:8080/",
          "height": 34
        },
        "outputId": "b27aff9d-41ce-4a59-d413-a6608637a9c6"
      },
      "source": [
        "dense_history"
      ],
      "execution_count": 16,
      "outputs": [
        {
          "output_type": "execute_result",
          "data": {
            "text/plain": [
              "<keras.callbacks.History at 0x7f96702d7940>"
            ]
          },
          "metadata": {
            "tags": []
          },
          "execution_count": 16
        }
      ]
    },
    {
      "cell_type": "code",
      "metadata": {
        "id": "QYciaNwF6fU0",
        "colab_type": "code",
        "colab": {
          "base_uri": "https://localhost:8080/",
          "height": 68
        },
        "outputId": "b8f4e9c3-bb6b-47c6-8de7-f5b071f071e3"
      },
      "source": [
        "#test the model\n",
        "gather_game_results(1000, p1=conv_model, flatten=[False, None])"
      ],
      "execution_count": 18,
      "outputs": [
        {
          "output_type": "stream",
          "text": [
            "The winning percentage for X was 90.60% in 1000 random simulations\n",
            "The winning percentage for O was 0.00% in 1000 random simulations\n",
            "The percentage of draws was 9.40% in 1000 random simulations\n"
          ],
          "name": "stdout"
        }
      ]
    },
    {
      "cell_type": "code",
      "metadata": {
        "id": "PTunbpqauR7R",
        "colab_type": "code",
        "colab": {
          "base_uri": "https://localhost:8080/",
          "height": 68
        },
        "outputId": "cee59a42-865f-4d11-f309-57d4aef3ed7b"
      },
      "source": [
        "gather_game_results(1000, p1=dense_model, flatten=[True, None])"
      ],
      "execution_count": 19,
      "outputs": [
        {
          "output_type": "stream",
          "text": [
            "The winning percentage for X was 81.50% in 1000 random simulations\n",
            "The winning percentage for O was 0.00% in 1000 random simulations\n",
            "The percentage of draws was 18.50% in 1000 random simulations\n"
          ],
          "name": "stdout"
        }
      ]
    },
    {
      "cell_type": "code",
      "metadata": {
        "id": "VSsFvuxLULHo",
        "colab_type": "code",
        "outputId": "3f44b628-0530-4e64-a33c-c5ae55bf282b",
        "colab": {
          "base_uri": "https://localhost:8080/",
          "height": 68
        }
      },
      "source": [
        "#play the model against itself, with some randomness introduced so that it's not deterministic\n",
        "\n",
        "gather_game_results(1000, p1=dense_model, p2=conv_model, rnd=0.6, flatten=[True, False])"
      ],
      "execution_count": 20,
      "outputs": [
        {
          "output_type": "stream",
          "text": [
            "The winning percentage for X was 73.90% in 1000 random simulations\n",
            "The winning percentage for O was 16.10% in 1000 random simulations\n",
            "The percentage of draws was 10.00% in 1000 random simulations\n"
          ],
          "name": "stdout"
        }
      ]
    },
    {
      "cell_type": "code",
      "metadata": {
        "id": "ePNggv6k1s31",
        "colab_type": "code",
        "colab": {
          "base_uri": "https://localhost:8080/",
          "height": 68
        },
        "outputId": "7ac53ec2-ff01-47a9-c8a7-3db38f0c3ecc"
      },
      "source": [
        "gather_game_results(1000, p1=conv_model, p2=dense_model, rnd=0.6, flatten=[False, True])"
      ],
      "execution_count": 21,
      "outputs": [
        {
          "output_type": "stream",
          "text": [
            "The winning percentage for X was 93.40% in 1000 random simulations\n",
            "The winning percentage for O was 4.80% in 1000 random simulations\n",
            "The percentage of draws was 1.80% in 1000 random simulations\n"
          ],
          "name": "stdout"
        }
      ]
    },
    {
      "cell_type": "code",
      "metadata": {
        "id": "8WF2UjMpC36q",
        "colab_type": "code",
        "colab": {}
      },
      "source": [
        "#Pickle and download the model once you have a model you like\n",
        "import pickle\n",
        "filename_conv = 'dnn_conv_model.pkl'\n",
        "filename_dense = 'dnn_dense_model.pkl'\n",
        "# filename = 'dnn_model2.pkl'\n",
        "pickle.dump(conv_model, open(filename_conv, 'wb'))\n",
        "pickle.dump(dense_model, open(filename_dense, 'wb'))"
      ],
      "execution_count": 0,
      "outputs": []
    },
    {
      "cell_type": "code",
      "metadata": {
        "id": "eIpFcmtL-URb",
        "colab_type": "code",
        "colab": {}
      },
      "source": [
        "from google.colab import files\n",
        "files.download('dnn_conv_model.pkl')\n",
        "files.download('dnn_dense_model.pkl')"
      ],
      "execution_count": 0,
      "outputs": []
    },
    {
      "cell_type": "code",
      "metadata": {
        "id": "_MCNfYzo7HJQ",
        "colab_type": "code",
        "colab": {}
      },
      "source": [
        "# import os\n",
        "# os.listdir()"
      ],
      "execution_count": 0,
      "outputs": []
    },
    {
      "cell_type": "code",
      "metadata": {
        "id": "_w6e8IC19riM",
        "colab_type": "code",
        "colab": {}
      },
      "source": [
        ""
      ],
      "execution_count": 0,
      "outputs": []
    }
  ]
}